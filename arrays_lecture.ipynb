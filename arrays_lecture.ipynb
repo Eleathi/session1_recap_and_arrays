{
 "cells": [
  {
   "attachments": {},
   "cell_type": "markdown",
   "metadata": {},
   "source": [
    "# Combining Data Types into Collections\n",
    "\n",
    "In this section, we will learn how to combine simple data types into collections, such as lists and arrays. We will explore the advantages and disadvantages of different collection types and learn how to use them.\n",
    "\n",
    "## Lists\n",
    "\n",
    "Lists are ordered collections of elements with a dynamic size and type. While lists are very flexible, they may not be the most efficient collection type for all use cases.\n",
    "\n",
    "Here is an example of a list of reaction times from three different participants:"
   ]
  },
  {
   "cell_type": "code",
   "execution_count": 11,
   "metadata": {},
   "outputs": [],
   "source": [
    "participant_1_RTs = [713, 552, 473, 143, 638, 311, 668, 937, 621, 459]\n",
    "participant_2_RTs = [287, 750, 411, 410, 351, 1040, 1124, 891, 924, 664]\n",
    "participant_3_RTs = [342, 1063, 131, 485, 480, 159, 60, 389, 375, 653]"
   ]
  },
  {
   "attachments": {},
   "cell_type": "markdown",
   "metadata": {},
   "source": [
    "To compare the reaction times on the 4th trial (index 3), we can use indexing:"
   ]
  },
  {
   "cell_type": "code",
   "execution_count": 12,
   "metadata": {},
   "outputs": [
    {
     "name": "stdout",
     "output_type": "stream",
     "text": [
      "143 410 485\n"
     ]
    }
   ],
   "source": [
    "print(participant_1_RTs[3], participant_2_RTs[3], participant_3_RTs[3])"
   ]
  },
  {
   "attachments": {},
   "cell_type": "markdown",
   "metadata": {},
   "source": [
    "Alternatively, we can use a list of lists, which can make the code cleaner:"
   ]
  },
  {
   "cell_type": "code",
   "execution_count": 13,
   "metadata": {},
   "outputs": [],
   "source": [
    "#   Second (inner) index >  \n",
    "#    0    1    2    3    4    5    6    7    8    9         First (outer) index \\/\n",
    "participants = [\n",
    "    [713, 552, 473, 143, 638, 311, 668, 937, 621, 459],    # 0\n",
    "    [287, 750, 411, 410, 351, 1040, 1124, 891, 924, 664],  # 1\n",
    "    [342, 1063, 131, 485, 480, 159, 60, 389, 375, 653]     # 2\n",
    "]"
   ]
  },
  {
   "attachments": {},
   "cell_type": "markdown",
   "metadata": {},
   "source": [
    "Now, to get a single value (e.g. 4th trial from 2nd participant), we need to provide 2 indices:"
   ]
  },
  {
   "cell_type": "code",
   "execution_count": 29,
   "metadata": {},
   "outputs": [
    {
     "name": "stdout",
     "output_type": "stream",
     "text": [
      "410\n"
     ]
    }
   ],
   "source": [
    "print(participants[1][3])"
   ]
  },
  {
   "attachments": {},
   "cell_type": "markdown",
   "metadata": {},
   "source": [
    "We can also compare them now, using loops, without having to manually type something out for each participant:"
   ]
  },
  {
   "cell_type": "code",
   "execution_count": 38,
   "metadata": {},
   "outputs": [
    {
     "name": "stdout",
     "output_type": "stream",
     "text": [
      "143\n",
      "410\n",
      "485\n"
     ]
    }
   ],
   "source": [
    "for participant in participants:\n",
    "    print(participant[3])\n",
    "\n",
    "# this allows us to (visualy) compare the reaction times on the fourth trial for all participants."
   ]
  },
  {
   "attachments": {},
   "cell_type": "markdown",
   "metadata": {},
   "source": [
    "## Arrays\n",
    "\n",
    "Another collection type that can be useful for data analysis is the array. Arrays are provided by the `numpy` package and have some advantages over lists:\n",
    "\n",
    "* Fixed size (no appending)\n",
    "* Fixed type (everything of the same type)\n",
    "* Bulk computations on arrays are much faster\n",
    "\n",
    "Here is an example of how to convert our list of lists to a numpy array:"
   ]
  },
  {
   "cell_type": "code",
   "execution_count": 15,
   "metadata": {},
   "outputs": [
    {
     "name": "stdout",
     "output_type": "stream",
     "text": [
      "[[ 713  552  473  143  638  311  668  937  621  459]\n",
      " [ 287  750  411  410  351 1040 1124  891  924  664]\n",
      " [ 342 1063  131  485  480  159   60  389  375  653]]\n"
     ]
    }
   ],
   "source": [
    "import numpy as np\n",
    "\n",
    "participant_array = np.array(participants)\n",
    "print(participant_array)\n",
    "\n",
    "\n"
   ]
  },
  {
   "attachments": {},
   "cell_type": "markdown",
   "metadata": {},
   "source": [
    "Now, it all of a sudden becomes very simple to compare reaction times, or to get all reaction times from a single participant!"
   ]
  },
  {
   "cell_type": "code",
   "execution_count": 16,
   "metadata": {},
   "outputs": [
    {
     "name": "stdout",
     "output_type": "stream",
     "text": [
      "143\n",
      "[143 410 485]\n"
     ]
    }
   ],
   "source": [
    "print(participant_array[0, 3]) #prints the 4th trial for the first participant\n",
    "print(participant_array[:, 3]) #prints the 4th trial for all participants"
   ]
  },
  {
   "attachments": {},
   "cell_type": "markdown",
   "metadata": {},
   "source": [
    "We can also do other operations to aggregate information, like taking the participant mean or standard deviation:"
   ]
  },
  {
   "cell_type": "code",
   "execution_count": 17,
   "metadata": {},
   "outputs": [
    {
     "name": "stdout",
     "output_type": "stream",
     "text": [
      "[551.5 685.2 413.7]\n"
     ]
    }
   ],
   "source": [
    "print(participant_array.mean(axis=1))"
   ]
  },
  {
   "attachments": {},
   "cell_type": "markdown",
   "metadata": {},
   "source": [
    "Or, just as easily, the trial means:"
   ]
  },
  {
   "cell_type": "code",
   "execution_count": 18,
   "metadata": {},
   "outputs": [
    {
     "name": "stdout",
     "output_type": "stream",
     "text": [
      "[447.33333333 788.33333333 338.33333333 346.         489.66666667\n",
      " 503.33333333 617.33333333 739.         640.         592.        ]\n"
     ]
    }
   ],
   "source": [
    "print(participant_array.mean(axis=0))"
   ]
  }
 ],
 "metadata": {
  "kernelspec": {
   "display_name": "Python 3",
   "language": "python",
   "name": "python3"
  },
  "language_info": {
   "codemirror_mode": {
    "name": "ipython",
    "version": 3
   },
   "file_extension": ".py",
   "mimetype": "text/x-python",
   "name": "python",
   "nbconvert_exporter": "python",
   "pygments_lexer": "ipython3",
   "version": "3.9.13"
  },
  "orig_nbformat": 4
 },
 "nbformat": 4,
 "nbformat_minor": 2
}
